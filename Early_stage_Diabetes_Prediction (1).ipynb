{
  "cells": [
    {
      "cell_type": "code",
      "source": [
        "import numpy as np\n",
        "import pandas as pd\n",
        "import matplotlib.pyplot as plt\n",
        "import seaborn as sns\n",
        "from sklearn.metrics import accuracy_score,confusion_matrix\n",
        "%matplotlib inline"
      ],
      "outputs": [],
      "execution_count": 1,
      "metadata": {
        "id": "ryHviIgRFQOs",
        "gather": {
          "logged": 1643632409826
        }
      }
    },
    {
      "cell_type": "code",
      "source": [
        "df=pd.read_csv('diabetes.csv')"
      ],
      "outputs": [],
      "execution_count": 2,
      "metadata": {
        "id": "2QdBhqRYFIoj",
        "gather": {
          "logged": 1643632410045
        }
      }
    },
    {
      "cell_type": "code",
      "source": [
        "df"
      ],
      "outputs": [
        {
          "output_type": "execute_result",
          "execution_count": 3,
          "data": {
            "text/plain": "     Age  Gender Polyuria Polydipsia sudden weight loss weakness Polyphagia  \\\n0     40    Male       No        Yes                 No      Yes         No   \n1     58    Male       No         No                 No      Yes         No   \n2     41    Male      Yes         No                 No      Yes        Yes   \n3     45    Male       No         No                Yes      Yes        Yes   \n4     60    Male      Yes        Yes                Yes      Yes        Yes   \n..   ...     ...      ...        ...                ...      ...        ...   \n515   39  Female      Yes        Yes                Yes       No        Yes   \n516   48  Female      Yes        Yes                Yes      Yes        Yes   \n517   58  Female      Yes        Yes                Yes      Yes        Yes   \n518   32  Female       No         No                 No      Yes         No   \n519   42    Male       No         No                 No       No         No   \n\n    Genital thrush visual blurring Itching Irritability delayed healing  \\\n0               No              No     Yes           No             Yes   \n1               No             Yes      No           No              No   \n2               No              No     Yes           No             Yes   \n3              Yes              No     Yes           No             Yes   \n4               No             Yes     Yes          Yes             Yes   \n..             ...             ...     ...          ...             ...   \n515             No              No     Yes           No             Yes   \n516             No              No     Yes          Yes             Yes   \n517             No             Yes      No           No              No   \n518             No             Yes     Yes           No             Yes   \n519             No              No      No           No              No   \n\n    partial paresis muscle stiffness Alopecia Obesity     class  \n0                No              Yes      Yes     Yes  Positive  \n1               Yes               No      Yes      No  Positive  \n2                No              Yes      Yes      No  Positive  \n3                No               No       No      No  Positive  \n4               Yes              Yes      Yes     Yes  Positive  \n..              ...              ...      ...     ...       ...  \n515             Yes               No       No      No  Positive  \n516             Yes               No       No      No  Positive  \n517             Yes              Yes       No     Yes  Positive  \n518              No               No      Yes      No  Negative  \n519              No               No       No      No  Negative  \n\n[520 rows x 17 columns]",
            "text/html": "<div>\n<style scoped>\n    .dataframe tbody tr th:only-of-type {\n        vertical-align: middle;\n    }\n\n    .dataframe tbody tr th {\n        vertical-align: top;\n    }\n\n    .dataframe thead th {\n        text-align: right;\n    }\n</style>\n<table border=\"1\" class=\"dataframe\">\n  <thead>\n    <tr style=\"text-align: right;\">\n      <th></th>\n      <th>Age</th>\n      <th>Gender</th>\n      <th>Polyuria</th>\n      <th>Polydipsia</th>\n      <th>sudden weight loss</th>\n      <th>weakness</th>\n      <th>Polyphagia</th>\n      <th>Genital thrush</th>\n      <th>visual blurring</th>\n      <th>Itching</th>\n      <th>Irritability</th>\n      <th>delayed healing</th>\n      <th>partial paresis</th>\n      <th>muscle stiffness</th>\n      <th>Alopecia</th>\n      <th>Obesity</th>\n      <th>class</th>\n    </tr>\n  </thead>\n  <tbody>\n    <tr>\n      <th>0</th>\n      <td>40</td>\n      <td>Male</td>\n      <td>No</td>\n      <td>Yes</td>\n      <td>No</td>\n      <td>Yes</td>\n      <td>No</td>\n      <td>No</td>\n      <td>No</td>\n      <td>Yes</td>\n      <td>No</td>\n      <td>Yes</td>\n      <td>No</td>\n      <td>Yes</td>\n      <td>Yes</td>\n      <td>Yes</td>\n      <td>Positive</td>\n    </tr>\n    <tr>\n      <th>1</th>\n      <td>58</td>\n      <td>Male</td>\n      <td>No</td>\n      <td>No</td>\n      <td>No</td>\n      <td>Yes</td>\n      <td>No</td>\n      <td>No</td>\n      <td>Yes</td>\n      <td>No</td>\n      <td>No</td>\n      <td>No</td>\n      <td>Yes</td>\n      <td>No</td>\n      <td>Yes</td>\n      <td>No</td>\n      <td>Positive</td>\n    </tr>\n    <tr>\n      <th>2</th>\n      <td>41</td>\n      <td>Male</td>\n      <td>Yes</td>\n      <td>No</td>\n      <td>No</td>\n      <td>Yes</td>\n      <td>Yes</td>\n      <td>No</td>\n      <td>No</td>\n      <td>Yes</td>\n      <td>No</td>\n      <td>Yes</td>\n      <td>No</td>\n      <td>Yes</td>\n      <td>Yes</td>\n      <td>No</td>\n      <td>Positive</td>\n    </tr>\n    <tr>\n      <th>3</th>\n      <td>45</td>\n      <td>Male</td>\n      <td>No</td>\n      <td>No</td>\n      <td>Yes</td>\n      <td>Yes</td>\n      <td>Yes</td>\n      <td>Yes</td>\n      <td>No</td>\n      <td>Yes</td>\n      <td>No</td>\n      <td>Yes</td>\n      <td>No</td>\n      <td>No</td>\n      <td>No</td>\n      <td>No</td>\n      <td>Positive</td>\n    </tr>\n    <tr>\n      <th>4</th>\n      <td>60</td>\n      <td>Male</td>\n      <td>Yes</td>\n      <td>Yes</td>\n      <td>Yes</td>\n      <td>Yes</td>\n      <td>Yes</td>\n      <td>No</td>\n      <td>Yes</td>\n      <td>Yes</td>\n      <td>Yes</td>\n      <td>Yes</td>\n      <td>Yes</td>\n      <td>Yes</td>\n      <td>Yes</td>\n      <td>Yes</td>\n      <td>Positive</td>\n    </tr>\n    <tr>\n      <th>...</th>\n      <td>...</td>\n      <td>...</td>\n      <td>...</td>\n      <td>...</td>\n      <td>...</td>\n      <td>...</td>\n      <td>...</td>\n      <td>...</td>\n      <td>...</td>\n      <td>...</td>\n      <td>...</td>\n      <td>...</td>\n      <td>...</td>\n      <td>...</td>\n      <td>...</td>\n      <td>...</td>\n      <td>...</td>\n    </tr>\n    <tr>\n      <th>515</th>\n      <td>39</td>\n      <td>Female</td>\n      <td>Yes</td>\n      <td>Yes</td>\n      <td>Yes</td>\n      <td>No</td>\n      <td>Yes</td>\n      <td>No</td>\n      <td>No</td>\n      <td>Yes</td>\n      <td>No</td>\n      <td>Yes</td>\n      <td>Yes</td>\n      <td>No</td>\n      <td>No</td>\n      <td>No</td>\n      <td>Positive</td>\n    </tr>\n    <tr>\n      <th>516</th>\n      <td>48</td>\n      <td>Female</td>\n      <td>Yes</td>\n      <td>Yes</td>\n      <td>Yes</td>\n      <td>Yes</td>\n      <td>Yes</td>\n      <td>No</td>\n      <td>No</td>\n      <td>Yes</td>\n      <td>Yes</td>\n      <td>Yes</td>\n      <td>Yes</td>\n      <td>No</td>\n      <td>No</td>\n      <td>No</td>\n      <td>Positive</td>\n    </tr>\n    <tr>\n      <th>517</th>\n      <td>58</td>\n      <td>Female</td>\n      <td>Yes</td>\n      <td>Yes</td>\n      <td>Yes</td>\n      <td>Yes</td>\n      <td>Yes</td>\n      <td>No</td>\n      <td>Yes</td>\n      <td>No</td>\n      <td>No</td>\n      <td>No</td>\n      <td>Yes</td>\n      <td>Yes</td>\n      <td>No</td>\n      <td>Yes</td>\n      <td>Positive</td>\n    </tr>\n    <tr>\n      <th>518</th>\n      <td>32</td>\n      <td>Female</td>\n      <td>No</td>\n      <td>No</td>\n      <td>No</td>\n      <td>Yes</td>\n      <td>No</td>\n      <td>No</td>\n      <td>Yes</td>\n      <td>Yes</td>\n      <td>No</td>\n      <td>Yes</td>\n      <td>No</td>\n      <td>No</td>\n      <td>Yes</td>\n      <td>No</td>\n      <td>Negative</td>\n    </tr>\n    <tr>\n      <th>519</th>\n      <td>42</td>\n      <td>Male</td>\n      <td>No</td>\n      <td>No</td>\n      <td>No</td>\n      <td>No</td>\n      <td>No</td>\n      <td>No</td>\n      <td>No</td>\n      <td>No</td>\n      <td>No</td>\n      <td>No</td>\n      <td>No</td>\n      <td>No</td>\n      <td>No</td>\n      <td>No</td>\n      <td>Negative</td>\n    </tr>\n  </tbody>\n</table>\n<p>520 rows × 17 columns</p>\n</div>"
          },
          "metadata": {}
        }
      ],
      "execution_count": 3,
      "metadata": {
        "colab": {
          "base_uri": "https://localhost:8080/",
          "height": 450
        },
        "id": "DXNA-3NuFWlD",
        "outputId": "2cbcfde3-af66-4a17-a4f1-627812ac97f4",
        "gather": {
          "logged": 1643632410374
        }
      }
    },
    {
      "cell_type": "code",
      "source": [
        "\n",
        "df.info()"
      ],
      "outputs": [
        {
          "output_type": "stream",
          "name": "stdout",
          "text": "<class 'pandas.core.frame.DataFrame'>\nRangeIndex: 520 entries, 0 to 519\nData columns (total 17 columns):\nAge                   520 non-null int64\nGender                520 non-null object\nPolyuria              520 non-null object\nPolydipsia            520 non-null object\nsudden weight loss    520 non-null object\nweakness              520 non-null object\nPolyphagia            520 non-null object\nGenital thrush        520 non-null object\nvisual blurring       520 non-null object\nItching               520 non-null object\nIrritability          520 non-null object\ndelayed healing       520 non-null object\npartial paresis       520 non-null object\nmuscle stiffness      520 non-null object\nAlopecia              520 non-null object\nObesity               520 non-null object\nclass                 520 non-null object\ndtypes: int64(1), object(16)\nmemory usage: 69.2+ KB\n"
        }
      ],
      "execution_count": 4,
      "metadata": {
        "colab": {
          "base_uri": "https://localhost:8080/"
        },
        "id": "n3Xr2YlTHzGD",
        "outputId": "a1a211c1-1062-4d47-f7b9-43eb4a68929c",
        "gather": {
          "logged": 1643632410598
        },
        "collapsed": false
      }
    },
    {
      "cell_type": "code",
      "source": [
        "df['class'].value_counts()"
      ],
      "outputs": [
        {
          "output_type": "execute_result",
          "execution_count": 5,
          "data": {
            "text/plain": "Positive    320\nNegative    200\nName: class, dtype: int64"
          },
          "metadata": {}
        }
      ],
      "execution_count": 5,
      "metadata": {
        "colab": {
          "base_uri": "https://localhost:8080/"
        },
        "id": "dCrQx1V9Ivc8",
        "outputId": "3ca05536-abb5-46d1-9a06-54b9fd07fa46",
        "gather": {
          "logged": 1643632410881
        }
      }
    },
    {
      "cell_type": "code",
      "source": [
        "for f in df.columns:\n",
        "    print(f'{f} {df[f].unique()}')"
      ],
      "outputs": [
        {
          "output_type": "stream",
          "name": "stdout",
          "text": "Age [40 58 41 45 60 55 57 66 67 70 44 38 35 61 54 43 62 39 48 32 42 52 53 37\n 49 63 30 50 46 36 51 59 65 25 47 28 68 56 31 85 90 72 69 79 34 16 33 64\n 27 29 26]\nGender ['Male' 'Female']\nPolyuria ['No' 'Yes']\nPolydipsia ['Yes' 'No']\nsudden weight loss ['No' 'Yes']\nweakness ['Yes' 'No']\nPolyphagia ['No' 'Yes']\nGenital thrush ['No' 'Yes']\nvisual blurring ['No' 'Yes']\nItching ['Yes' 'No']\nIrritability ['No' 'Yes']\ndelayed healing ['Yes' 'No']\npartial paresis ['No' 'Yes']\nmuscle stiffness ['Yes' 'No']\nAlopecia ['Yes' 'No']\nObesity ['Yes' 'No']\nclass ['Positive' 'Negative']\n"
        }
      ],
      "execution_count": 6,
      "metadata": {
        "colab": {
          "base_uri": "https://localhost:8080/"
        },
        "id": "dvPPIFd0HU8z",
        "outputId": "15e1a462-455a-4e55-e9b1-c0f75e743742",
        "gather": {
          "logged": 1643632411098
        }
      }
    },
    {
      "cell_type": "code",
      "source": [
        "df['Gender'] = df['Gender'].map({'Male':1,'Female':0})\n",
        "df['class'] = df['class'].map({'Positive':1,'Negative':0})\n",
        "df['Polyuria'] = df['Polyuria'].map({'Yes':1,'No':0})\n",
        "df['Polydipsia'] = df['Polydipsia'].map({'Yes':1,'No':0})\n",
        "df['sudden weight loss'] = df['sudden weight loss'].map({'Yes':1,'No':0})\n",
        "df['weakness'] = df['weakness'].map({'Yes':1,'No':0})\n",
        "df['Polyphagia'] = df['Polyphagia'].map({'Yes':1,'No':0})\n",
        "df['Genital thrush'] = df['Genital thrush'].map({'Yes':1,'No':0})\n",
        "df['visual blurring'] = df['visual blurring'].map({'Yes':1,'No':0})\n",
        "df['Itching'] = df['Itching'].map({'Yes':1,'No':0})\n",
        "df['Irritability'] = df['Irritability'].map({'Yes':1,'No':0})\n",
        "df['delayed healing'] = df['delayed healing'].map({'Yes':1,'No':0})\n",
        "df['partial paresis'] = df['partial paresis'].map({'Yes':1,'No':0})\n",
        "df['muscle stiffness'] = df['muscle stiffness'].map({'Yes':1,'No':0})\n",
        "df['Alopecia'] = df['Alopecia'].map({'Yes':1,'No':0})\n",
        "df['Obesity'] = df['Obesity'].map({'Yes':1,'No':0})"
      ],
      "outputs": [],
      "execution_count": 7,
      "metadata": {
        "id": "NUj1fbq0Qo17",
        "gather": {
          "logged": 1643632411312
        }
      }
    },
    {
      "cell_type": "code",
      "source": [
        "df"
      ],
      "outputs": [
        {
          "output_type": "execute_result",
          "execution_count": 8,
          "data": {
            "text/plain": "     Age  Gender  Polyuria  Polydipsia  sudden weight loss  weakness  \\\n0     40       1         0           1                   0         1   \n1     58       1         0           0                   0         1   \n2     41       1         1           0                   0         1   \n3     45       1         0           0                   1         1   \n4     60       1         1           1                   1         1   \n..   ...     ...       ...         ...                 ...       ...   \n515   39       0         1           1                   1         0   \n516   48       0         1           1                   1         1   \n517   58       0         1           1                   1         1   \n518   32       0         0           0                   0         1   \n519   42       1         0           0                   0         0   \n\n     Polyphagia  Genital thrush  visual blurring  Itching  Irritability  \\\n0             0               0                0        1             0   \n1             0               0                1        0             0   \n2             1               0                0        1             0   \n3             1               1                0        1             0   \n4             1               0                1        1             1   \n..          ...             ...              ...      ...           ...   \n515           1               0                0        1             0   \n516           1               0                0        1             1   \n517           1               0                1        0             0   \n518           0               0                1        1             0   \n519           0               0                0        0             0   \n\n     delayed healing  partial paresis  muscle stiffness  Alopecia  Obesity  \\\n0                  1                0                 1         1        1   \n1                  0                1                 0         1        0   \n2                  1                0                 1         1        0   \n3                  1                0                 0         0        0   \n4                  1                1                 1         1        1   \n..               ...              ...               ...       ...      ...   \n515                1                1                 0         0        0   \n516                1                1                 0         0        0   \n517                0                1                 1         0        1   \n518                1                0                 0         1        0   \n519                0                0                 0         0        0   \n\n     class  \n0        1  \n1        1  \n2        1  \n3        1  \n4        1  \n..     ...  \n515      1  \n516      1  \n517      1  \n518      0  \n519      0  \n\n[520 rows x 17 columns]",
            "text/html": "<div>\n<style scoped>\n    .dataframe tbody tr th:only-of-type {\n        vertical-align: middle;\n    }\n\n    .dataframe tbody tr th {\n        vertical-align: top;\n    }\n\n    .dataframe thead th {\n        text-align: right;\n    }\n</style>\n<table border=\"1\" class=\"dataframe\">\n  <thead>\n    <tr style=\"text-align: right;\">\n      <th></th>\n      <th>Age</th>\n      <th>Gender</th>\n      <th>Polyuria</th>\n      <th>Polydipsia</th>\n      <th>sudden weight loss</th>\n      <th>weakness</th>\n      <th>Polyphagia</th>\n      <th>Genital thrush</th>\n      <th>visual blurring</th>\n      <th>Itching</th>\n      <th>Irritability</th>\n      <th>delayed healing</th>\n      <th>partial paresis</th>\n      <th>muscle stiffness</th>\n      <th>Alopecia</th>\n      <th>Obesity</th>\n      <th>class</th>\n    </tr>\n  </thead>\n  <tbody>\n    <tr>\n      <th>0</th>\n      <td>40</td>\n      <td>1</td>\n      <td>0</td>\n      <td>1</td>\n      <td>0</td>\n      <td>1</td>\n      <td>0</td>\n      <td>0</td>\n      <td>0</td>\n      <td>1</td>\n      <td>0</td>\n      <td>1</td>\n      <td>0</td>\n      <td>1</td>\n      <td>1</td>\n      <td>1</td>\n      <td>1</td>\n    </tr>\n    <tr>\n      <th>1</th>\n      <td>58</td>\n      <td>1</td>\n      <td>0</td>\n      <td>0</td>\n      <td>0</td>\n      <td>1</td>\n      <td>0</td>\n      <td>0</td>\n      <td>1</td>\n      <td>0</td>\n      <td>0</td>\n      <td>0</td>\n      <td>1</td>\n      <td>0</td>\n      <td>1</td>\n      <td>0</td>\n      <td>1</td>\n    </tr>\n    <tr>\n      <th>2</th>\n      <td>41</td>\n      <td>1</td>\n      <td>1</td>\n      <td>0</td>\n      <td>0</td>\n      <td>1</td>\n      <td>1</td>\n      <td>0</td>\n      <td>0</td>\n      <td>1</td>\n      <td>0</td>\n      <td>1</td>\n      <td>0</td>\n      <td>1</td>\n      <td>1</td>\n      <td>0</td>\n      <td>1</td>\n    </tr>\n    <tr>\n      <th>3</th>\n      <td>45</td>\n      <td>1</td>\n      <td>0</td>\n      <td>0</td>\n      <td>1</td>\n      <td>1</td>\n      <td>1</td>\n      <td>1</td>\n      <td>0</td>\n      <td>1</td>\n      <td>0</td>\n      <td>1</td>\n      <td>0</td>\n      <td>0</td>\n      <td>0</td>\n      <td>0</td>\n      <td>1</td>\n    </tr>\n    <tr>\n      <th>4</th>\n      <td>60</td>\n      <td>1</td>\n      <td>1</td>\n      <td>1</td>\n      <td>1</td>\n      <td>1</td>\n      <td>1</td>\n      <td>0</td>\n      <td>1</td>\n      <td>1</td>\n      <td>1</td>\n      <td>1</td>\n      <td>1</td>\n      <td>1</td>\n      <td>1</td>\n      <td>1</td>\n      <td>1</td>\n    </tr>\n    <tr>\n      <th>...</th>\n      <td>...</td>\n      <td>...</td>\n      <td>...</td>\n      <td>...</td>\n      <td>...</td>\n      <td>...</td>\n      <td>...</td>\n      <td>...</td>\n      <td>...</td>\n      <td>...</td>\n      <td>...</td>\n      <td>...</td>\n      <td>...</td>\n      <td>...</td>\n      <td>...</td>\n      <td>...</td>\n      <td>...</td>\n    </tr>\n    <tr>\n      <th>515</th>\n      <td>39</td>\n      <td>0</td>\n      <td>1</td>\n      <td>1</td>\n      <td>1</td>\n      <td>0</td>\n      <td>1</td>\n      <td>0</td>\n      <td>0</td>\n      <td>1</td>\n      <td>0</td>\n      <td>1</td>\n      <td>1</td>\n      <td>0</td>\n      <td>0</td>\n      <td>0</td>\n      <td>1</td>\n    </tr>\n    <tr>\n      <th>516</th>\n      <td>48</td>\n      <td>0</td>\n      <td>1</td>\n      <td>1</td>\n      <td>1</td>\n      <td>1</td>\n      <td>1</td>\n      <td>0</td>\n      <td>0</td>\n      <td>1</td>\n      <td>1</td>\n      <td>1</td>\n      <td>1</td>\n      <td>0</td>\n      <td>0</td>\n      <td>0</td>\n      <td>1</td>\n    </tr>\n    <tr>\n      <th>517</th>\n      <td>58</td>\n      <td>0</td>\n      <td>1</td>\n      <td>1</td>\n      <td>1</td>\n      <td>1</td>\n      <td>1</td>\n      <td>0</td>\n      <td>1</td>\n      <td>0</td>\n      <td>0</td>\n      <td>0</td>\n      <td>1</td>\n      <td>1</td>\n      <td>0</td>\n      <td>1</td>\n      <td>1</td>\n    </tr>\n    <tr>\n      <th>518</th>\n      <td>32</td>\n      <td>0</td>\n      <td>0</td>\n      <td>0</td>\n      <td>0</td>\n      <td>1</td>\n      <td>0</td>\n      <td>0</td>\n      <td>1</td>\n      <td>1</td>\n      <td>0</td>\n      <td>1</td>\n      <td>0</td>\n      <td>0</td>\n      <td>1</td>\n      <td>0</td>\n      <td>0</td>\n    </tr>\n    <tr>\n      <th>519</th>\n      <td>42</td>\n      <td>1</td>\n      <td>0</td>\n      <td>0</td>\n      <td>0</td>\n      <td>0</td>\n      <td>0</td>\n      <td>0</td>\n      <td>0</td>\n      <td>0</td>\n      <td>0</td>\n      <td>0</td>\n      <td>0</td>\n      <td>0</td>\n      <td>0</td>\n      <td>0</td>\n      <td>0</td>\n    </tr>\n  </tbody>\n</table>\n<p>520 rows × 17 columns</p>\n</div>"
          },
          "metadata": {}
        }
      ],
      "execution_count": 8,
      "metadata": {
        "colab": {
          "base_uri": "https://localhost:8080/",
          "height": 450
        },
        "id": "6t8fC9euQ0ze",
        "outputId": "0aaa0a1c-e6de-4017-8b25-b4f4d3b381ed",
        "gather": {
          "logged": 1643632411862
        }
      }
    },
    {
      "cell_type": "code",
      "source": [
        "corrdata = df.corr()"
      ],
      "outputs": [],
      "execution_count": 9,
      "metadata": {
        "id": "uURYi09HQ8PO",
        "gather": {
          "logged": 1643632412081
        }
      }
    },
    {
      "cell_type": "code",
      "source": [
        "ax,fig = plt.subplots(figsize=(15,8))\n",
        "sns.heatmap(corrdata,annot=True)"
      ],
      "outputs": [
        {
          "output_type": "execute_result",
          "execution_count": 10,
          "data": {
            "text/plain": "<matplotlib.axes._subplots.AxesSubplot at 0x7fdda2131e50>"
          },
          "metadata": {}
        },
        {
          "output_type": "display_data",
          "data": {
            "text/plain": "<Figure size 1080x576 with 2 Axes>",
            "image/png": "[encoded data removed]"
          },
          "metadata": {
            "needs_background": "light"
          }
        }
      ],
      "execution_count": 10,
      "metadata": {
        "colab": {
          "base_uri": "https://localhost:8080/",
          "height": 590
        },
        "id": "E2CkJKfeey_U",
        "outputId": "a324607a-dbed-4a1f-a29a-0e6efc55a6d4",
        "gather": {
          "logged": 1643632412635
        }
      }
    },
    {
      "cell_type": "code",
      "source": [
        "plt.figure(figsize=(10,10))\n",
        "plt.title('Number of Positive vs Negative Cases')\n",
        "sns.countplot(data=df, x='class');"
      ],
      "outputs": [
        {
          "output_type": "display_data",
          "data": {
            "text/plain": "<Figure size 720x720 with 1 Axes>",
            "image/png": "[encoded data removed]"
          },
          "metadata": {
            "needs_background": "light"
          }
        }
      ],
      "execution_count": 11,
      "metadata": {
        "colab": {
          "base_uri": "https://localhost:8080/",
          "height": 621
        },
        "id": "0njs4hoWe2K-",
        "outputId": "9d1b55e8-f1c4-47c6-9820-0c9f12530c85",
        "gather": {
          "logged": 1643632412992
        }
      }
    },
    {
      "cell_type": "code",
      "source": [
        "sns.distplot(df['Age'],bins=30)  "
      ],
      "outputs": [
        {
          "output_type": "stream",
          "name": "stderr",
          "text": "/anaconda/envs/azureml_py38/lib/python3.8/site-packages/seaborn/distributions.py:2619: FutureWarning: `distplot` is a deprecated function and will be removed in a future version. Please adapt your code to use either `displot` (a figure-level function with similar flexibility) or `histplot` (an axes-level function for histograms).\n  warnings.warn(msg, FutureWarning)\n"
        },
        {
          "output_type": "execute_result",
          "execution_count": 12,
          "data": {
            "text/plain": "<matplotlib.axes._subplots.AxesSubplot at 0x7fdd9c5e5220>"
          },
          "metadata": {}
        },
        {
          "output_type": "display_data",
          "data": {
            "text/plain": "<Figure size 432x288 with 1 Axes>",
            "image/png": "[encoded data removed]"
          },
          "metadata": {
            "needs_background": "light"
          }
        }
      ],
      "execution_count": 12,
      "metadata": {
        "colab": {
          "base_uri": "https://localhost:8080/",
          "height": 350
        },
        "id": "dcrkGL7ce5-Q",
        "outputId": "5f31ab29-fe0f-4fc9-812c-b48a759a7205",
        "gather": {
          "logged": 1643632413228
        }
      }
    },
    {
      "cell_type": "code",
      "source": [
        "sns.countplot(x='class',data=df,hue='Gender')"
      ],
      "outputs": [
        {
          "output_type": "execute_result",
          "execution_count": 13,
          "data": {
            "text/plain": "<matplotlib.axes._subplots.AxesSubplot at 0x7fdd9c4f2e50>"
          },
          "metadata": {}
        },
        {
          "output_type": "display_data",
          "data": {
            "text/plain": "<Figure size 432x288 with 1 Axes>",
            "image/png": "[encoded data removed]"
          },
          "metadata": {
            "needs_background": "light"
          }
        }
      ],
      "execution_count": 13,
      "metadata": {
        "colab": {
          "base_uri": "https://localhost:8080/",
          "height": 296
        },
        "id": "39QYvP6le6Kf",
        "outputId": "8065c4ad-a974-427b-d2cf-8c02c0647645",
        "gather": {
          "logged": 1643632413531
        }
      }
    },
    {
      "cell_type": "code",
      "source": [
        "# Explore Polyuria vs class by Gender\n",
        "g = sns.catplot(x=\"Polyuria\", y=\"class\", hue=\"Gender\", data=df,\n",
        "                   height=6, kind=\"bar\")\n",
        "g = g.set_ylabels(\"diabetes probability\")\n",
        "g.set_xticklabels([\"No\", \"Yes\"])\n",
        "new_labels = ['Female', 'Male']\n"
      ],
      "outputs": [
        {
          "output_type": "display_data",
          "data": {
            "text/plain": "<Figure size 476.875x432 with 1 Axes>",
            "image/png": "[encoded data removed]"
          },
          "metadata": {
            "needs_background": "light"
          }
        }
      ],
      "execution_count": 14,
      "metadata": {
        "colab": {
          "base_uri": "https://localhost:8080/",
          "height": 441
        },
        "id": "3ZTx7p6iF2M1",
        "outputId": "214bd607-1a51-42d2-a907-ce8b2623c3e1",
        "gather": {
          "logged": 1643632413866
        }
      }
    },
    {
      "cell_type": "code",
      "source": [
        "g = sns.catplot(x=\"Polydipsia\", y=\"class\", hue=\"Gender\", data=df,\n",
        "                   height=6, kind=\"bar\")\n",
        "g = g.set_ylabels(\"diabetes probability\")\n",
        "g.set_xticklabels([\"No\", \"Yes\"])\n",
        "new_labels = ['Female', 'Male']\n"
      ],
      "outputs": [
        {
          "output_type": "display_data",
          "data": {
            "text/plain": "<Figure size 476.875x432 with 1 Axes>",
            "image/png": "[encoded data removed]"
          },
          "metadata": {
            "needs_background": "light"
          }
        }
      ],
      "execution_count": 15,
      "metadata": {
        "colab": {
          "base_uri": "https://localhost:8080/",
          "height": 441
        },
        "id": "4_7rMToyQwGq",
        "outputId": "062116fd-d9a1-4365-dac6-a2643b1aa7aa",
        "gather": {
          "logged": 1643632414149
        }
      }
    },
    {
      "cell_type": "code",
      "source": [
        "g = sns.catplot(x=\"Polyphagia\", y=\"class\", hue=\"Gender\", data=df,\n",
        "                   height=6, kind=\"bar\")\n",
        "g = g.set_ylabels(\"diabetes probability\")\n",
        "g.set_xticklabels([\"No\", \"Yes\"])\n",
        "new_labels = ['Female', 'Male']\n"
      ],
      "outputs": [
        {
          "output_type": "display_data",
          "data": {
            "text/plain": "<Figure size 476.875x432 with 1 Axes>",
            "image/png": "[encoded data removed]"
          },
          "metadata": {
            "needs_background": "light"
          }
        }
      ],
      "execution_count": 16,
      "metadata": {
        "colab": {
          "base_uri": "https://localhost:8080/",
          "height": 441
        },
        "id": "SfPDzh6TQ4E8",
        "outputId": "b4d59715-1509-4b40-db12-11a2af5c9dff",
        "gather": {
          "logged": 1643632414527
        }
      }
    },
    {
      "cell_type": "code",
      "source": [
        "g  = sns.catplot(x=\"partial paresis\",y=\"class\",data=df,kind=\"bar\")\n",
        "g.set_xticklabels([\"No\", \"Yes\"])\n",
        "g.set_ylabels(\"diabetes probability\")"
      ],
      "outputs": [
        {
          "output_type": "execute_result",
          "execution_count": 17,
          "data": {
            "text/plain": "<seaborn.axisgrid.FacetGrid at 0x7fdd9c5d3fa0>"
          },
          "metadata": {}
        },
        {
          "output_type": "display_data",
          "data": {
            "text/plain": "<Figure size 360x360 with 1 Axes>",
            "image/png": "[encoded data removed]"
          },
          "metadata": {
            "needs_background": "light"
          }
        }
      ],
      "execution_count": 17,
      "metadata": {
        "colab": {
          "base_uri": "https://localhost:8080/",
          "height": 386
        },
        "id": "fwb0_vr4TqCq",
        "outputId": "7c6bf88d-65bb-4414-a584-e230fab2d54c",
        "gather": {
          "logged": 1643632414868
        }
      }
    },
    {
      "cell_type": "code",
      "source": [
        "X1 = df.iloc[:,0:-1]\n",
        "y1 = df.iloc[:,-1]"
      ],
      "outputs": [],
      "execution_count": 18,
      "metadata": {
        "id": "WWm09hbR8u0G",
        "gather": {
          "logged": 1643632415192
        }
      }
    },
    {
      "cell_type": "code",
      "source": [
        "y1"
      ],
      "outputs": [
        {
          "output_type": "execute_result",
          "execution_count": 19,
          "data": {
            "text/plain": "0      1\n1      1\n2      1\n3      1\n4      1\n      ..\n515    1\n516    1\n517    1\n518    0\n519    0\nName: class, Length: 520, dtype: int64"
          },
          "metadata": {}
        }
      ],
      "execution_count": 19,
      "metadata": {
        "colab": {
          "base_uri": "https://localhost:8080/"
        },
        "id": "iXTX9IeUBHM3",
        "outputId": "69045262-80f7-4490-cf33-c8265200f968",
        "gather": {
          "logged": 1643632415773
        }
      }
    },
    {
      "cell_type": "code",
      "source": [
        "X1.columns"
      ],
      "outputs": [
        {
          "output_type": "execute_result",
          "execution_count": 20,
          "data": {
            "text/plain": "Index(['Age', 'Gender', 'Polyuria', 'Polydipsia', 'sudden weight loss',\n       'weakness', 'Polyphagia', 'Genital thrush', 'visual blurring',\n       'Itching', 'Irritability', 'delayed healing', 'partial paresis',\n       'muscle stiffness', 'Alopecia', 'Obesity'],\n      dtype='object')"
          },
          "metadata": {}
        }
      ],
      "execution_count": 20,
      "metadata": {
        "colab": {
          "base_uri": "https://localhost:8080/"
        },
        "id": "BZ0I54Uy8vNh",
        "outputId": "f07d7a73-c2ba-4a3f-cb66-b1b642e4000b",
        "gather": {
          "logged": 1643632416347
        }
      }
    },
    {
      "cell_type": "code",
      "source": [
        "from sklearn.feature_selection import SelectKBest\n",
        "from sklearn.feature_selection import chi2\n",
        "best_feature = SelectKBest(score_func=chi2,k=10)\n",
        "fit = best_feature.fit(X1,y1)"
      ],
      "outputs": [],
      "execution_count": 21,
      "metadata": {
        "id": "yWmnw-wjwFh4",
        "gather": {
          "logged": 1643632416559
        }
      }
    },
    {
      "cell_type": "code",
      "source": [
        "dataset_scores = pd.DataFrame(fit.scores_)\n",
        "dataset_cols = pd.DataFrame(X1.columns)"
      ],
      "outputs": [],
      "execution_count": 22,
      "metadata": {
        "id": "7iL5sCubyZRX",
        "gather": {
          "logged": 1643632416891
        }
      }
    },
    {
      "cell_type": "code",
      "source": [
        "featurescores = pd.concat([dataset_cols,dataset_scores],axis=1)\n",
        "featurescores.columns=['column','scores']"
      ],
      "outputs": [],
      "execution_count": 23,
      "metadata": {
        "id": "AmK-BJ2Wya2B",
        "gather": {
          "logged": 1643632417087
        }
      }
    },
    {
      "cell_type": "code",
      "source": [
        "featurescores"
      ],
      "outputs": [
        {
          "output_type": "execute_result",
          "execution_count": 24,
          "data": {
            "text/plain": "                column      scores\n0                  Age   18.845767\n1               Gender   38.747637\n2             Polyuria  116.184593\n3           Polydipsia  120.785515\n4   sudden weight loss   57.749309\n5             weakness   12.724262\n6           Polyphagia   33.198418\n7       Genital thrush    4.914009\n8      visual blurring   18.124571\n9              Itching    0.047826\n10        Irritability   35.334127\n11     delayed healing    0.620188\n12     partial paresis   55.314286\n13    muscle stiffness    4.875000\n14            Alopecia   24.402793\n15             Obesity    2.250284",
            "text/html": "<div>\n<style scoped>\n    .dataframe tbody tr th:only-of-type {\n        vertical-align: middle;\n    }\n\n    .dataframe tbody tr th {\n        vertical-align: top;\n    }\n\n    .dataframe thead th {\n        text-align: right;\n    }\n</style>\n<table border=\"1\" class=\"dataframe\">\n  <thead>\n    <tr style=\"text-align: right;\">\n      <th></th>\n      <th>column</th>\n      <th>scores</th>\n    </tr>\n  </thead>\n  <tbody>\n    <tr>\n      <th>0</th>\n      <td>Age</td>\n      <td>18.845767</td>\n    </tr>\n    <tr>\n      <th>1</th>\n      <td>Gender</td>\n      <td>38.747637</td>\n    </tr>\n    <tr>\n      <th>2</th>\n      <td>Polyuria</td>\n      <td>116.184593</td>\n    </tr>\n    <tr>\n      <th>3</th>\n      <td>Polydipsia</td>\n      <td>120.785515</td>\n    </tr>\n    <tr>\n      <th>4</th>\n      <td>sudden weight loss</td>\n      <td>57.749309</td>\n    </tr>\n    <tr>\n      <th>5</th>\n      <td>weakness</td>\n      <td>12.724262</td>\n    </tr>\n    <tr>\n      <th>6</th>\n      <td>Polyphagia</td>\n      <td>33.198418</td>\n    </tr>\n    <tr>\n      <th>7</th>\n      <td>Genital thrush</td>\n      <td>4.914009</td>\n    </tr>\n    <tr>\n      <th>8</th>\n      <td>visual blurring</td>\n      <td>18.124571</td>\n    </tr>\n    <tr>\n      <th>9</th>\n      <td>Itching</td>\n      <td>0.047826</td>\n    </tr>\n    <tr>\n      <th>10</th>\n      <td>Irritability</td>\n      <td>35.334127</td>\n    </tr>\n    <tr>\n      <th>11</th>\n      <td>delayed healing</td>\n      <td>0.620188</td>\n    </tr>\n    <tr>\n      <th>12</th>\n      <td>partial paresis</td>\n      <td>55.314286</td>\n    </tr>\n    <tr>\n      <th>13</th>\n      <td>muscle stiffness</td>\n      <td>4.875000</td>\n    </tr>\n    <tr>\n      <th>14</th>\n      <td>Alopecia</td>\n      <td>24.402793</td>\n    </tr>\n    <tr>\n      <th>15</th>\n      <td>Obesity</td>\n      <td>2.250284</td>\n    </tr>\n  </tbody>\n</table>\n</div>"
          },
          "metadata": {}
        }
      ],
      "execution_count": 24,
      "metadata": {
        "colab": {
          "base_uri": "https://localhost:8080/",
          "height": 542
        },
        "id": "296RzBcLycPa",
        "outputId": "f5f5850c-542e-44f6-b069-e838efce2dbc",
        "gather": {
          "logged": 1643632417415
        }
      }
    },
    {
      "cell_type": "code",
      "source": [
        "print(featurescores.nlargest(10,'scores'))"
      ],
      "outputs": [
        {
          "output_type": "stream",
          "name": "stdout",
          "text": "                column      scores\n3           Polydipsia  120.785515\n2             Polyuria  116.184593\n4   sudden weight loss   57.749309\n12     partial paresis   55.314286\n1               Gender   38.747637\n10        Irritability   35.334127\n6           Polyphagia   33.198418\n14            Alopecia   24.402793\n0                  Age   18.845767\n8      visual blurring   18.124571\n"
        }
      ],
      "execution_count": 25,
      "metadata": {
        "colab": {
          "base_uri": "https://localhost:8080/"
        },
        "id": "rwoggJ6nydyC",
        "outputId": "57766390-6edd-4310-b922-48d68cae03a7",
        "gather": {
          "logged": 1643632417800
        }
      }
    },
    {
      "cell_type": "code",
      "source": [
        "X = df[['Polydipsia','sudden weight loss','partial paresis','Irritability','Polyphagia','Polyuria','visual blurring']]\n",
        "y = df['class']"
      ],
      "outputs": [],
      "execution_count": 26,
      "metadata": {
        "id": "a5a4gJ8jN1BV",
        "gather": {
          "logged": 1643632418181
        }
      }
    },
    {
      "cell_type": "markdown",
      "source": [
        "Splitting the dataset into training and testing sets"
      ],
      "metadata": {
        "id": "amr5uBYIOCwu"
      }
    },
    {
      "cell_type": "code",
      "source": [
        "from sklearn.model_selection import train_test_split\n",
        "X_train,X_test,y_train,y_test = train_test_split(X,y,test_size = 0.2,random_state=0)"
      ],
      "outputs": [],
      "execution_count": 27,
      "metadata": {
        "id": "pmC8eYHcN1Ry",
        "gather": {
          "logged": 1643632418527
        }
      }
    },
    {
      "cell_type": "markdown",
      "source": [
        "Standardization of independant variables"
      ],
      "metadata": {
        "id": "yzzEMZPrRdVH"
      }
    },
    {
      "cell_type": "code",
      "source": [
        "from sklearn.preprocessing import StandardScaler\n",
        "ss = StandardScaler()\n",
        "X_train = ss.fit_transform(X_train)\n",
        "X_test = ss.transform(X_test)"
      ],
      "outputs": [],
      "execution_count": 28,
      "metadata": {
        "id": "isDd0IgNOEjp",
        "gather": {
          "logged": 1643632418837
        }
      }
    },
    {
      "cell_type": "markdown",
      "source": [
        "Logistic Regression"
      ],
      "metadata": {
        "id": "9fBnhN-tOOUC"
      }
    },
    {
      "cell_type": "code",
      "source": [
        "from sklearn.linear_model import LogisticRegression\n",
        "lg=LogisticRegression()\n",
        "lg.fit(X_train,y_train)"
      ],
      "outputs": [
        {
          "output_type": "execute_result",
          "execution_count": 29,
          "data": {
            "text/plain": "LogisticRegression()"
          },
          "metadata": {}
        }
      ],
      "execution_count": 29,
      "metadata": {
        "colab": {
          "base_uri": "https://localhost:8080/"
        },
        "id": "NOCNKj_qOItH",
        "outputId": "ac3037f8-8a39-4100-8c37-782a72a89723",
        "gather": {
          "logged": 1643632419195
        }
      }
    },
    {
      "cell_type": "markdown",
      "source": [
        "Cross validation test for training data"
      ],
      "metadata": {
        "id": "K5apPOj_OY3I"
      }
    },
    {
      "cell_type": "code",
      "source": [
        "from sklearn.model_selection import cross_val_score\n",
        "accuracies = cross_val_score(estimator=lg, X=X_train ,y=y_train,cv=10)\n",
        "print(\"accuracy is {:.2f} %\".format(accuracies.mean()*100))\n",
        "print(\"std is {:.2f} %\".format(accuracies.std()*100))"
      ],
      "outputs": [
        {
          "output_type": "stream",
          "name": "stdout",
          "text": "accuracy is 84.64 %\nstd is 5.98 %\n"
        }
      ],
      "execution_count": 30,
      "metadata": {
        "colab": {
          "base_uri": "https://localhost:8080/"
        },
        "id": "fzPkWwl2OZ93",
        "outputId": "e51ba6e8-ad03-4c32-8abb-87013e72706f",
        "gather": {
          "logged": 1643632419495
        }
      }
    },
    {
      "cell_type": "markdown",
      "source": [
        "Prediction"
      ],
      "metadata": {
        "id": "Fa6OTkEPOf_1"
      }
    },
    {
      "cell_type": "code",
      "source": [
        "pre=lg.predict(X_test)"
      ],
      "outputs": [],
      "execution_count": 31,
      "metadata": {
        "id": "3BPAOVY4OcqC",
        "gather": {
          "logged": 1643632419822
        }
      }
    },
    {
      "cell_type": "markdown",
      "source": [
        "Take a look into Accuracy and Confusion matrix"
      ],
      "metadata": {
        "id": "9sdV_OEtOj3J"
      }
    },
    {
      "cell_type": "code",
      "source": [
        "logistic_regression=accuracy_score(pre,y_test)\n",
        "print(accuracy_score(pre,y_test))\n",
        "print(confusion_matrix(pre,y_test))"
      ],
      "outputs": [
        {
          "output_type": "stream",
          "name": "stdout",
          "text": "0.9134615384615384\n[[34  3]\n [ 6 61]]\n"
        }
      ],
      "execution_count": 32,
      "metadata": {
        "colab": {
          "base_uri": "https://localhost:8080/"
        },
        "id": "WItVFrDfOgyf",
        "outputId": "1a36939e-58ff-401b-c0c0-84c040937f62",
        "gather": {
          "logged": 1643632420175
        }
      }
    },
    {
      "cell_type": "markdown",
      "source": [
        "Classification Report"
      ],
      "metadata": {
        "id": "zZ3cHd2EPC1P"
      }
    },
    {
      "cell_type": "code",
      "source": [
        "from sklearn.metrics import classification_report\n",
        "print(classification_report(pre,y_test))"
      ],
      "outputs": [
        {
          "output_type": "stream",
          "name": "stdout",
          "text": "              precision    recall  f1-score   support\n\n           0       0.85      0.92      0.88        37\n           1       0.95      0.91      0.93        67\n\n    accuracy                           0.91       104\n   macro avg       0.90      0.91      0.91       104\nweighted avg       0.92      0.91      0.91       104\n\n"
        }
      ],
      "execution_count": 33,
      "metadata": {
        "colab": {
          "base_uri": "https://localhost:8080/"
        },
        "id": "m9VNY12wOktB",
        "outputId": "9f0cfd26-70b1-4c04-e277-455cf73a1a8c",
        "gather": {
          "logged": 1643632420506
        }
      }
    },
    {
      "cell_type": "markdown",
      "source": [
        "SVM"
      ],
      "metadata": {
        "id": "tZ4ssKeDPHqW"
      }
    },
    {
      "cell_type": "code",
      "source": [
        "from sklearn.svm import SVC\n",
        "sv=SVC(kernel='linear',random_state=0)\n",
        "sv.fit(X_train,y_train)"
      ],
      "outputs": [
        {
          "output_type": "execute_result",
          "execution_count": 34,
          "data": {
            "text/plain": "SVC(kernel='linear', random_state=0)"
          },
          "metadata": {}
        }
      ],
      "execution_count": 34,
      "metadata": {
        "colab": {
          "base_uri": "https://localhost:8080/"
        },
        "id": "kXZdqi6EPHKh",
        "outputId": "f9869714-e5c7-4aba-84f5-a70d92d7463d",
        "gather": {
          "logged": 1643632420875
        }
      }
    },
    {
      "cell_type": "code",
      "source": [
        "from sklearn.model_selection import cross_val_score\n",
        "accuracies = cross_val_score(estimator=sv, X=X_train ,y=y_train,cv=10)\n",
        "print(\"accuracy is {:.2f} %\".format(accuracies.mean()*100))\n",
        "print(\"std is {:.2f} %\".format(accuracies.std()*100))"
      ],
      "outputs": [
        {
          "output_type": "stream",
          "name": "stdout",
          "text": "accuracy is 85.85 %\nstd is 5.55 %\n"
        }
      ],
      "execution_count": 35,
      "metadata": {
        "colab": {
          "base_uri": "https://localhost:8080/"
        },
        "id": "iwDAlXAuPM0b",
        "outputId": "5ff703a8-e11b-4482-8d7f-0d9f6ae9d3c3",
        "gather": {
          "logged": 1643632421208
        }
      }
    },
    {
      "cell_type": "code",
      "source": [
        "pre1=sv.predict(X_test)"
      ],
      "outputs": [],
      "execution_count": 36,
      "metadata": {
        "id": "ny3immYnPQRd",
        "gather": {
          "logged": 1643632421544
        }
      }
    },
    {
      "cell_type": "code",
      "source": [
        "svm_linear=accuracy_score(pre1,y_test)\n",
        "print(accuracy_score(pre1,y_test))\n",
        "print(confusion_matrix(pre1,y_test))"
      ],
      "outputs": [
        {
          "output_type": "stream",
          "name": "stdout",
          "text": "0.9134615384615384\n[[35  4]\n [ 5 60]]\n"
        }
      ],
      "execution_count": 37,
      "metadata": {
        "colab": {
          "base_uri": "https://localhost:8080/"
        },
        "id": "oTqFW1JxPQO7",
        "outputId": "1b10f094-0e3d-4bda-e711-09d7108af0b2",
        "gather": {
          "logged": 1643632421881
        }
      }
    },
    {
      "cell_type": "code",
      "source": [
        "from sklearn.metrics import classification_report\n",
        "print(classification_report(pre1,y_test))"
      ],
      "outputs": [
        {
          "output_type": "stream",
          "name": "stdout",
          "text": "              precision    recall  f1-score   support\n\n           0       0.88      0.90      0.89        39\n           1       0.94      0.92      0.93        65\n\n    accuracy                           0.91       104\n   macro avg       0.91      0.91      0.91       104\nweighted avg       0.91      0.91      0.91       104\n\n"
        }
      ],
      "execution_count": 38,
      "metadata": {
        "colab": {
          "base_uri": "https://localhost:8080/"
        },
        "id": "vDDUNDFbPdfH",
        "outputId": "f28f11ea-7c3b-4e6d-e96b-6f3bc6538195",
        "gather": {
          "logged": 1643632422213
        }
      }
    },
    {
      "cell_type": "code",
      "source": [
        "\n",
        "from sklearn.svm import SVC\n",
        "svrf=SVC(kernel='rbf',random_state=0)\n",
        "svrf.fit(X_train,y_train)\n"
      ],
      "outputs": [
        {
          "output_type": "execute_result",
          "execution_count": 39,
          "data": {
            "text/plain": "SVC(random_state=0)"
          },
          "metadata": {}
        }
      ],
      "execution_count": 39,
      "metadata": {
        "colab": {
          "base_uri": "https://localhost:8080/"
        },
        "id": "tPwsqgXBQN3O",
        "outputId": "9d977c8f-070b-4cf3-d57e-dc31e87e248d",
        "gather": {
          "logged": 1643632422577
        }
      }
    },
    {
      "cell_type": "code",
      "source": [
        "from sklearn.model_selection import cross_val_score\n",
        "accuracies = cross_val_score(estimator=svrf, X=X_train ,y=y_train,cv=10)\n",
        "print(\"accuracy is {:.2f} %\".format(accuracies.mean()*100))\n",
        "print(\"std is {:.2f} %\".format(accuracies.std()*100))"
      ],
      "outputs": [
        {
          "output_type": "stream",
          "name": "stdout",
          "text": "accuracy is 87.99 %\nstd is 3.54 %\n"
        }
      ],
      "execution_count": 40,
      "metadata": {
        "colab": {
          "base_uri": "https://localhost:8080/"
        },
        "id": "_-iH1InlQTfF",
        "outputId": "e0532709-1cea-4183-abce-cf31a806094e",
        "gather": {
          "logged": 1643632422920
        }
      }
    },
    {
      "cell_type": "code",
      "source": [
        "pre2=svrf.predict(X_test)"
      ],
      "outputs": [],
      "execution_count": 41,
      "metadata": {
        "id": "RDQR_tdcQWzn",
        "gather": {
          "logged": 1643632423146
        }
      }
    },
    {
      "cell_type": "code",
      "source": [
        "svm_rbf=accuracy_score(pre2,y_test)\n",
        "print(accuracy_score(pre2,y_test))\n",
        "print(confusion_matrix(pre2,y_test))"
      ],
      "outputs": [
        {
          "output_type": "stream",
          "name": "stdout",
          "text": "0.9615384615384616\n[[37  1]\n [ 3 63]]\n"
        }
      ],
      "execution_count": 42,
      "metadata": {
        "colab": {
          "base_uri": "https://localhost:8080/"
        },
        "id": "7ySWC12wQZll",
        "outputId": "ca6d35f0-2167-4b44-d33b-b0a4dc51b7ff",
        "gather": {
          "logged": 1643632423472
        }
      }
    },
    {
      "cell_type": "code",
      "source": [
        "from sklearn.metrics import classification_report\n",
        "print(classification_report(pre2,y_test))"
      ],
      "outputs": [
        {
          "output_type": "stream",
          "name": "stdout",
          "text": "              precision    recall  f1-score   support\n\n           0       0.93      0.97      0.95        38\n           1       0.98      0.95      0.97        66\n\n    accuracy                           0.96       104\n   macro avg       0.95      0.96      0.96       104\nweighted avg       0.96      0.96      0.96       104\n\n"
        }
      ],
      "execution_count": 43,
      "metadata": {
        "colab": {
          "base_uri": "https://localhost:8080/"
        },
        "id": "5d1oAe4bQbcF",
        "outputId": "3d647483-67b9-4d97-cf4a-69b6bc7683e8",
        "gather": {
          "logged": 1643632423993
        }
      }
    },
    {
      "cell_type": "markdown",
      "source": [
        "KNN"
      ],
      "metadata": {
        "id": "UsX0oocDQeAu"
      }
    },
    {
      "cell_type": "code",
      "source": [
        "from sklearn.neighbors import KNeighborsClassifier\n",
        "score=[]\n",
        "\n",
        "for i in range(1,10):\n",
        "    \n",
        "    \n",
        "    knn=KNeighborsClassifier(n_neighbors=i,metric='minkowski',p=2)\n",
        "    knn.fit(X_train,y_train)\n",
        "    pre3=knn.predict(X_test)\n",
        "    ans=accuracy_score(pre3,y_test)\n",
        "    score.append(round(100*ans,2))\n",
        "print(sorted(score,reverse=True)[:5])\n",
        "knn=sorted(score,reverse=True)[:1]"
      ],
      "outputs": [
        {
          "output_type": "stream",
          "name": "stdout",
          "text": "[99.04, 98.08, 98.08, 96.15, 96.15]\n"
        }
      ],
      "execution_count": 44,
      "metadata": {
        "colab": {
          "base_uri": "https://localhost:8080/"
        },
        "id": "w97WLs-QQexw",
        "outputId": "bf5776b7-fa5f-49c1-f012-b1f9432eb0a4",
        "gather": {
          "logged": 1643632424310
        }
      }
    },
    {
      "cell_type": "markdown",
      "source": [
        "Naive bayes-Gaussian NB"
      ],
      "metadata": {
        "id": "RhoEGN63Q8xj"
      }
    },
    {
      "cell_type": "code",
      "source": [
        "from sklearn.naive_bayes import GaussianNB\n",
        "gb=GaussianNB()\n",
        "gb.fit(X_train,y_train)"
      ],
      "outputs": [
        {
          "output_type": "execute_result",
          "execution_count": 45,
          "data": {
            "text/plain": "GaussianNB()"
          },
          "metadata": {}
        }
      ],
      "execution_count": 45,
      "metadata": {
        "colab": {
          "base_uri": "https://localhost:8080/"
        },
        "id": "gMBDa4KJQg-d",
        "outputId": "c9295a58-0f59-45e7-fa53-42d60c7f1632",
        "gather": {
          "logged": 1643632424587
        }
      }
    },
    {
      "cell_type": "code",
      "source": [
        "from sklearn.model_selection import cross_val_score\n",
        "accuracies = cross_val_score(estimator=gb, X=X_train ,y=y_train,cv=10)\n",
        "print(\"accuracy is {:.2f} %\".format(accuracies.mean()*100))\n",
        "print(\"std is {:.2f} %\".format(accuracies.std()*100))"
      ],
      "outputs": [
        {
          "output_type": "stream",
          "name": "stdout",
          "text": "accuracy is 85.12 %\nstd is 5.18 %\n"
        }
      ],
      "execution_count": 46,
      "metadata": {
        "colab": {
          "base_uri": "https://localhost:8080/"
        },
        "id": "7Dc1ESDdQlUN",
        "outputId": "9709e897-74b1-4a97-d57b-bb8e0c16d72c",
        "gather": {
          "logged": 1643632424927
        }
      }
    },
    {
      "cell_type": "code",
      "source": [
        "pre4=gb.predict(X_test)"
      ],
      "outputs": [],
      "execution_count": 47,
      "metadata": {
        "id": "IOFMQ-dVQm34",
        "gather": {
          "logged": 1643632425203
        }
      }
    },
    {
      "cell_type": "code",
      "source": [
        "Naive_bayes_Gaussian_nb=accuracy_score(pre4,y_test)\n",
        "print(accuracy_score(pre4,y_test))\n",
        "print(confusion_matrix(pre4,y_test))"
      ],
      "outputs": [
        {
          "output_type": "stream",
          "name": "stdout",
          "text": "0.9038461538461539\n[[33  3]\n [ 7 61]]\n"
        }
      ],
      "execution_count": 48,
      "metadata": {
        "colab": {
          "base_uri": "https://localhost:8080/"
        },
        "id": "iXHK23uLQoid",
        "outputId": "640f4b77-adac-46fe-9455-7f9b8003c506",
        "gather": {
          "logged": 1643632425543
        }
      }
    },
    {
      "cell_type": "code",
      "source": [
        "from sklearn.metrics import classification_report\n",
        "print(classification_report(pre4,y_test))"
      ],
      "outputs": [
        {
          "output_type": "stream",
          "name": "stdout",
          "text": "              precision    recall  f1-score   support\n\n           0       0.82      0.92      0.87        36\n           1       0.95      0.90      0.92        68\n\n    accuracy                           0.90       104\n   macro avg       0.89      0.91      0.90       104\nweighted avg       0.91      0.90      0.90       104\n\n"
        }
      ],
      "execution_count": 49,
      "metadata": {
        "colab": {
          "base_uri": "https://localhost:8080/"
        },
        "id": "tR-0DRzcQphP",
        "outputId": "daf19c53-09bf-407a-9002-8a35ac4bdc82",
        "gather": {
          "logged": 1643632425995
        }
      }
    },
    {
      "cell_type": "markdown",
      "source": [
        "Decision Tress Classifie"
      ],
      "metadata": {
        "id": "Du55aSWcQ4rY"
      }
    },
    {
      "cell_type": "code",
      "source": [
        "from sklearn.tree import DecisionTreeClassifier\n",
        "dc=DecisionTreeClassifier(criterion='gini')\n",
        "dc.fit(X_train,y_train)"
      ],
      "outputs": [
        {
          "output_type": "execute_result",
          "execution_count": 50,
          "data": {
            "text/plain": "DecisionTreeClassifier()"
          },
          "metadata": {}
        }
      ],
      "execution_count": 50,
      "metadata": {
        "colab": {
          "base_uri": "https://localhost:8080/"
        },
        "id": "qyoSwLgXQsms",
        "outputId": "8012784c-6682-4ad4-d9bd-979c101e6260",
        "gather": {
          "logged": 1643632426322
        }
      }
    },
    {
      "cell_type": "code",
      "source": [
        "from sklearn.model_selection import cross_val_score\n",
        "accuracies = cross_val_score(estimator=dc, X=X_train ,y=y_train,cv=10)\n",
        "print(\"accuracy is {:.2f} %\".format(accuracies.mean()*100))\n",
        "print(\"std is {:.2f} %\".format(accuracies.std()*100))"
      ],
      "outputs": [
        {
          "output_type": "stream",
          "name": "stdout",
          "text": "accuracy is 90.40 %\nstd is 4.39 %\n"
        }
      ],
      "execution_count": 51,
      "metadata": {
        "colab": {
          "base_uri": "https://localhost:8080/"
        },
        "id": "ndMWlU1XQuie",
        "outputId": "378fd86b-b8dc-44e3-b1f0-896f588f2a7a",
        "gather": {
          "logged": 1643632426633
        }
      }
    },
    {
      "cell_type": "code",
      "source": [
        "pre5=dc.predict(X_test)"
      ],
      "outputs": [],
      "execution_count": 52,
      "metadata": {
        "id": "eo3Ih1ePQwP_",
        "gather": {
          "logged": 1643632426988
        }
      }
    },
    {
      "cell_type": "code",
      "source": [
        "Decisiontress_classifier=accuracy_score(pre5,y_test)\n",
        "print(accuracy_score(pre5,y_test))\n",
        "print(confusion_matrix(pre5,y_test))"
      ],
      "outputs": [
        {
          "output_type": "stream",
          "name": "stdout",
          "text": "0.9807692307692307\n[[39  1]\n [ 1 63]]\n"
        }
      ],
      "execution_count": 53,
      "metadata": {
        "colab": {
          "base_uri": "https://localhost:8080/"
        },
        "id": "adtTDpM9QxbG",
        "outputId": "ad2ad5bc-63b2-45a0-aaff-7931fb4a1a7f",
        "gather": {
          "logged": 1643632427340
        }
      }
    },
    {
      "cell_type": "code",
      "source": [
        "from sklearn.metrics import classification_report\n",
        "print(classification_report(pre5,y_test))"
      ],
      "outputs": [
        {
          "output_type": "stream",
          "name": "stdout",
          "text": "              precision    recall  f1-score   support\n\n           0       0.97      0.97      0.97        40\n           1       0.98      0.98      0.98        64\n\n    accuracy                           0.98       104\n   macro avg       0.98      0.98      0.98       104\nweighted avg       0.98      0.98      0.98       104\n\n"
        }
      ],
      "execution_count": 54,
      "metadata": {
        "colab": {
          "base_uri": "https://localhost:8080/"
        },
        "id": "bNm2f6gZQ0Db",
        "outputId": "fc67018a-0318-4c50-faaf-de4cd8fdd832",
        "gather": {
          "logged": 1643632427648
        }
      }
    },
    {
      "cell_type": "markdown",
      "source": [
        "Random Forest Classifier"
      ],
      "metadata": {
        "id": "maQeptF0RLWJ"
      }
    },
    {
      "cell_type": "code",
      "source": [
        "from sklearn.ensemble import RandomForestClassifier\n",
        "estime=[]\n",
        "for i in range(1,100):\n",
        "    rc=RandomForestClassifier(n_estimators=i,criterion='entropy',random_state=0)\n",
        "    rc.fit(X_train,y_train)"
      ],
      "outputs": [],
      "execution_count": 55,
      "metadata": {
        "id": "s9WETmPnRKuq",
        "gather": {
          "logged": 1643632433389
        }
      }
    },
    {
      "cell_type": "code",
      "source": [
        "from sklearn.model_selection import cross_val_score\n",
        "accuracies = cross_val_score(estimator=rc, X=X_train ,y=y_train,cv=10)\n",
        "print(\"accuracy is {:.2f} %\".format(accuracies.mean()*100))\n",
        "print(\"std is {:.2f} %\".format(accuracies.std()*100))"
      ],
      "outputs": [
        {
          "output_type": "stream",
          "name": "stdout",
          "text": "accuracy is 90.16 %\nstd is 4.57 %\n"
        }
      ],
      "execution_count": 56,
      "metadata": {
        "colab": {
          "base_uri": "https://localhost:8080/"
        },
        "id": "-j1J9Fg7RNlZ",
        "outputId": "2a29476c-6e5e-47dc-cedf-81587d90c532",
        "gather": {
          "logged": 1643632434760
        }
      }
    },
    {
      "cell_type": "code",
      "source": [
        "pre6 = rc.predict(X_test)"
      ],
      "outputs": [],
      "execution_count": 57,
      "metadata": {
        "id": "ivZ5vcO9RRI3",
        "gather": {
          "logged": 1643632435027
        }
      }
    },
    {
      "cell_type": "code",
      "source": [
        "Random_forest=accuracy_score(pre6,y_test)\n",
        "print(accuracy_score(pre6,y_test))\n",
        "print(confusion_matrix(pre6,y_test))"
      ],
      "outputs": [
        {
          "output_type": "stream",
          "name": "stdout",
          "text": "0.9807692307692307\n[[39  1]\n [ 1 63]]\n"
        }
      ],
      "execution_count": 58,
      "metadata": {
        "colab": {
          "base_uri": "https://localhost:8080/"
        },
        "id": "XF1G8P3LRTFs",
        "outputId": "a1c7751b-facc-4a6f-ab53-5b6d0573c6f6",
        "gather": {
          "logged": 1643632435549
        }
      }
    },
    {
      "cell_type": "code",
      "source": [
        "from sklearn.metrics import classification_report\n",
        "print(classification_report(pre6,y_test))"
      ],
      "outputs": [
        {
          "output_type": "stream",
          "name": "stdout",
          "text": "              precision    recall  f1-score   support\n\n           0       0.97      0.97      0.97        40\n           1       0.98      0.98      0.98        64\n\n    accuracy                           0.98       104\n   macro avg       0.98      0.98      0.98       104\nweighted avg       0.98      0.98      0.98       104\n\n"
        }
      ],
      "execution_count": 59,
      "metadata": {
        "colab": {
          "base_uri": "https://localhost:8080/"
        },
        "id": "v2YDQ1SvRVTl",
        "outputId": "7c4058a8-f37f-4b0d-92bd-88662aa34a83",
        "gather": {
          "logged": 1643632435761
        }
      }
    },
    {
      "cell_type": "markdown",
      "source": [
        "Accuracies of all classification model overview"
      ],
      "metadata": {
        "id": "FWpSyQdBRBcx"
      }
    },
    {
      "cell_type": "code",
      "source": [
        "print('Logistic regression:',logistic_regression*100)\n",
        "print('svmlinear:',svm_linear*100)\n",
        "print('svmrbf:',svm_rbf*100)\n",
        "print('knn:',knn)\n",
        "print('naive bayes:',Naive_bayes_Gaussian_nb*100)\n",
        "print('Decision tress:',Decisiontress_classifier*100)\n",
        "print('Random forest:',Random_forest*100)"
      ],
      "outputs": [
        {
          "output_type": "stream",
          "name": "stdout",
          "text": "Logistic regression: 91.34615384615384\nsvmlinear: 91.34615384615384\nsvmrbf: 96.15384615384616\nknn: [99.04]\nnaive bayes: 90.38461538461539\nDecision tress: 98.07692307692307\nRandom forest: 98.07692307692307\n"
        }
      ],
      "execution_count": 60,
      "metadata": {
        "colab": {
          "base_uri": "https://localhost:8080/"
        },
        "id": "cbnX1H8ERDbn",
        "outputId": "1c359e81-a0f1-47db-9ce9-0ee4286a02f6",
        "gather": {
          "logged": 1643632435987
        }
      }
    }
  ],
  "metadata": {
    "colab": {
      "name": "Early stage Diabetes Prediction.ipynb",
      "provenance": [],
      "collapsed_sections": []
    },
    "kernelspec": {
      "name": "python38-azureml",
      "language": "python",
      "display_name": "Python 3.8 - AzureML"
    },
    "language_info": {
      "name": "python",
      "version": "3.8.1",
      "mimetype": "text/x-python",
      "codemirror_mode": {
        "name": "ipython",
        "version": 3
      },
      "pygments_lexer": "ipython3",
      "nbconvert_exporter": "python",
      "file_extension": ".py"
    },
    "kernel_info": {
      "name": "python38-azureml"
    },
    "microsoft": {
      "host": {
        "AzureML": {
          "notebookHasBeenCompleted": true
        }
      }
    },
    "nteract": {
      "version": "nteract-front-end@1.0.0"
    }
  },
  "nbformat": 4,
  "nbformat_minor": 0
}